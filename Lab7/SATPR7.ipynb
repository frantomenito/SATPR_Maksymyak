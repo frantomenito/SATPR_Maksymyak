{
 "cells": [
  {
   "cell_type": "code",
   "execution_count": 1,
   "id": "initial_id",
   "metadata": {
    "collapsed": true,
    "ExecuteTime": {
     "end_time": "2023-12-08T22:03:38.442839300Z",
     "start_time": "2023-12-08T22:03:37.978254100Z"
    }
   },
   "outputs": [],
   "source": [
    "import numpy as np\n",
    "from collections import defaultdict\n",
    "\n",
    "candidates = np.array([['A', \"C\", \"B\", \"C\"],\n",
    "                   [\"C\", \"B\", \"A\", \"A\"],\n",
    "                   [\"D\", \"D\", \"C\", \"D\"],\n",
    "                   [\"B\", \"A\", \"D\", \"B\"]])\n",
    "\n",
    "values = np.array([7, 5, 5, 3])\n",
    "sumValues = np.sum(values)\n",
    "\n",
    "def removeCandidate(candidatesArray, candidate):\n",
    "    indexes = np.argwhere(candidatesArray==candidate)\n",
    "    for index in indexes:\n",
    "        col = index[0]\n",
    "        row = index[1]\n",
    "        candidatesArray[col, row] = \"\"\n",
    "    return compressArray(candidatesArray)    \n",
    "\n",
    "def compressArray(array):    \n",
    "    for col_index in range(array.shape[1]):\n",
    "        column = array[:, col_index]\n",
    "        non_empty_values = column[column != \"\"]\n",
    "        column[:] = \"\"\n",
    "\n",
    "        column[:len(non_empty_values)] = non_empty_values\n",
    "        \n",
    "    non_empty_rows = ~np.all(array == \"\", axis=1)\n",
    "    array = array[non_empty_rows]\n",
    "\n",
    "    return array"
   ]
  },
  {
   "cell_type": "markdown",
   "source": [
    "## Відносна більшість"
   ],
   "metadata": {
    "collapsed": false
   },
   "id": "1f5de219563f81b1"
  },
  {
   "cell_type": "code",
   "execution_count": 2,
   "outputs": [
    {
     "name": "stdout",
     "output_type": "stream",
     "text": [
      "['C' 'A' 'B' 'D']\n"
     ]
    }
   ],
   "source": [
    "def relative(canditatesArray, values):\n",
    "    result = {\"A\": 0, \"B\": 0, \"C\": 0, \"D\": 0, }\n",
    "\n",
    "    for index, value in np.ndenumerate(values):\n",
    "        candidate = canditatesArray[0][index]\n",
    "        result[candidate] += value\n",
    "    return result\n",
    "\n",
    "relativeCandidates = candidates.copy()\n",
    "topStudents = []\n",
    "\n",
    "for i in range(np.shape(candidates)[1]):\n",
    "    relativeArray = relative(relativeCandidates, values)\n",
    "    top_student = max(relativeArray, key=relativeArray.get)\n",
    "    \n",
    "    topStudents = np.append(topStudents, top_student)\n",
    "    \n",
    "    relativeCandidates = removeCandidate(relativeCandidates, top_student)\n",
    "print(topStudents)"
   ],
   "metadata": {
    "collapsed": false,
    "ExecuteTime": {
     "end_time": "2023-12-08T22:03:38.444834Z",
     "start_time": "2023-12-08T22:03:38.435963100Z"
    }
   },
   "id": "22d538fcaf66db8a"
  },
  {
   "cell_type": "markdown",
   "source": [
    "## Абсолютна більшість"
   ],
   "metadata": {
    "collapsed": false
   },
   "id": "7e26ba085a7008c8"
  },
  {
   "cell_type": "code",
   "execution_count": 3,
   "outputs": [
    {
     "name": "stdout",
     "output_type": "stream",
     "text": [
      "['C' 'D']\n"
     ]
    }
   ],
   "source": [
    "candidatesList = np.array([\"A\", \"B\", \"C\", \"D\"])\n",
    "absolutelyCandidates = candidates.copy()\n",
    "topAbsStudents = []\n",
    "\n",
    "def get_max_value(data):\n",
    "    d = defaultdict(list)\n",
    "    for key, value in data.items():\n",
    "        d[value].append(key)\n",
    "    return max(d.items())[1]\n",
    "\n",
    "for i in range(np.shape(candidates)[1]):\n",
    "    tempCandidates = absolutelyCandidates.copy()\n",
    "\n",
    "    relativeArray = relative(tempCandidates, values)\n",
    "    top_student = max(relativeArray, key=relativeArray.get)\n",
    "    topValue = relativeArray[top_student]\n",
    "    \n",
    "    if topValue/sumValues > 0.5:\n",
    "        topAbsStudents = np.append(topAbsStudents, top_student)\n",
    "        \n",
    "        absolutelyCandidates = removeCandidate(absolutelyCandidates, top_student)\n",
    "    else:\n",
    "\n",
    "        data = list(relativeArray.values())\n",
    "        numpyArray = np.array(data)\n",
    "\n",
    "        top2 = np.argpartition(numpyArray, -2)[-2:]\n",
    "        topValues = numpyArray[top2]\n",
    "        \n",
    "        topKeys = np.array(list(relativeArray.keys()))[np.argsort(numpyArray)[-2:]]\n",
    "        result_dict = np.array(list(dict(zip(topKeys, topValues)).keys()))\n",
    "\n",
    "        tempCandidatesArr = candidatesList.copy()\n",
    "        \n",
    "        for i in range(len(result_dict)):\n",
    "            indexes = np.argwhere(tempCandidatesArr==result_dict[i])\n",
    "            tempCandidatesArr = np.delete(tempCandidatesArr, indexes)    \n",
    "        \n",
    "        for i in range(len(tempCandidatesArr)):\n",
    "            tempCandidates = removeCandidate(tempCandidates, tempCandidatesArr[i])\n",
    "        \n",
    "        relativeArray = relative(tempCandidates, values)\n",
    "\n",
    "        top_student = max(relativeArray, key=relativeArray.get)\n",
    "\n",
    "\n",
    "        absolutelyCandidates = removeCandidate(absolutelyCandidates, top_student)\n",
    "\n",
    "print(topAbsStudents)"
   ],
   "metadata": {
    "collapsed": false,
    "ExecuteTime": {
     "end_time": "2023-12-08T22:03:38.474886200Z",
     "start_time": "2023-12-08T22:03:38.451483200Z"
    }
   },
   "id": "6f71ba18d53da4cb"
  },
  {
   "cell_type": "markdown",
   "source": [
    "## Борда\n"
   ],
   "metadata": {
    "collapsed": false
   },
   "id": "7f2169b7f4c81823"
  },
  {
   "cell_type": "code",
   "execution_count": 4,
   "outputs": [
    {
     "name": "stdout",
     "output_type": "stream",
     "text": [
      "['C' 'A' 'B' 'D']\n"
     ]
    }
   ],
   "source": [
    "def bord(canditatesArray, values):\n",
    "    result = {\"A\": 0, \"B\": 0, \"C\": 0, \"D\": 0, }\n",
    "\n",
    "    for index, value in np.ndenumerate(canditatesArray):\n",
    "        candidate = canditatesArray[index[0], index[1]]\n",
    "        \n",
    "        result[candidate] += values[index[1]]*(3-index[0])\n",
    "    return result\n",
    "\n",
    "bordCandidates = candidates.copy()\n",
    "topBordStudents = []\n",
    "\n",
    "for i in range(np.shape(candidates)[1]):\n",
    "    bordArray = bord(bordCandidates, values)\n",
    "    top_student = max(bordArray, key=bordArray.get)\n",
    "    \n",
    "    topBordStudents = np.append(topBordStudents, top_student)\n",
    "    \n",
    "    bordCandidates = removeCandidate(bordCandidates, top_student)\n",
    "print(topBordStudents)"
   ],
   "metadata": {
    "collapsed": false,
    "ExecuteTime": {
     "end_time": "2023-12-08T22:03:38.527537700Z",
     "start_time": "2023-12-08T22:03:38.465525800Z"
    }
   },
   "id": "52b545ea46dd2019"
  },
  {
   "cell_type": "markdown",
   "source": [
    "## Кондорсе"
   ],
   "metadata": {
    "collapsed": false
   },
   "id": "545c9266477520a5"
  },
  {
   "cell_type": "code",
   "execution_count": 4,
   "outputs": [],
   "source": [],
   "metadata": {
    "collapsed": false,
    "ExecuteTime": {
     "end_time": "2023-12-08T22:03:38.527537700Z",
     "start_time": "2023-12-08T22:03:38.477878400Z"
    }
   },
   "id": "de396fe6cd0f93e7"
  },
  {
   "cell_type": "code",
   "execution_count": 5,
   "outputs": [
    {
     "name": "stdout",
     "output_type": "stream",
     "text": [
      "Кондорсе: None\n",
      "Копленд: C\n",
      "Сімпсон: C\n"
     ]
    }
   ],
   "source": [
    "# методом Кондорсе\n",
    "def condorcet_method(votes):\n",
    "    candidates = set([vote for sublist in votes for vote in sublist])\n",
    "    pairwise_votes = {(c1, c2): 0 for c1 in candidates for c2 in candidates if c1 != c2}\n",
    "    \n",
    "    for sublist in votes:\n",
    "        for i in range(len(sublist)):\n",
    "            for j in range(i + 1, len(sublist)):\n",
    "                if sublist[i] != sublist[j]:\n",
    "                    pairwise_votes[(sublist[i], sublist[j])] += 1\n",
    "    \n",
    "    for candidate in candidates:\n",
    "        pairwise_wins = sum([1 for other_candidate in candidates if other_candidate != candidate and pairwise_votes[(candidate, other_candidate)] > pairwise_votes[(other_candidate, candidate)]])\n",
    "        if pairwise_wins == len(candidates) - 1:\n",
    "            return candidate\n",
    "    \n",
    "    return None\n",
    "\n",
    "# методом Копленда\n",
    "def copeland_method(votes):\n",
    "    candidates = set([vote for sublist in votes for vote in sublist])\n",
    "    scores = {candidate: 0 for candidate in candidates}\n",
    "    \n",
    "    for c1 in candidates:\n",
    "        for c2 in candidates:\n",
    "            if c1 != c2:\n",
    "                for sublist in votes:\n",
    "                    try:\n",
    "                        if sublist.index(c1) < sublist.index(c2):\n",
    "                            scores[c1] += 1\n",
    "                        elif sublist.index(c2) < sublist.index(c1):\n",
    "                            scores[c2] += 1\n",
    "                    except ValueError:\n",
    "                        pass\n",
    "    \n",
    "    winner = max(scores, key=scores.get)\n",
    "    return winner\n",
    "\n",
    "# методом Сімпсона\n",
    "def simpson_method(votes):\n",
    "    candidates = set([vote for sublist in votes for vote in sublist])\n",
    "    scores = {candidate: 0 for candidate in candidates}\n",
    "    \n",
    "    for i, sublist in enumerate(votes):\n",
    "        for j, candidate in enumerate(sublist):\n",
    "            scores[candidate] += (len(sublist) - j)\n",
    "    \n",
    "    winner = max(scores, key=scores.get)\n",
    "    return winner\n",
    "\n",
    "print(\"Кондорсе:\", condorcet_method(candidates))\n",
    "print(\"Копленд:\", copeland_method(candidates.tolist()))\n",
    "print(\"Сімпсон:\", simpson_method(candidates))"
   ],
   "metadata": {
    "collapsed": false,
    "ExecuteTime": {
     "end_time": "2023-12-08T22:03:38.528534400Z",
     "start_time": "2023-12-08T22:03:38.491819100Z"
    }
   },
   "id": "5de4941f3c715a11"
  },
  {
   "cell_type": "markdown",
   "source": [],
   "metadata": {
    "collapsed": false
   },
   "id": "e565ce9ea3582a8c"
  }
 ],
 "metadata": {
  "kernelspec": {
   "display_name": "Python 3",
   "language": "python",
   "name": "python3"
  },
  "language_info": {
   "codemirror_mode": {
    "name": "ipython",
    "version": 2
   },
   "file_extension": ".py",
   "mimetype": "text/x-python",
   "name": "python",
   "nbconvert_exporter": "python",
   "pygments_lexer": "ipython2",
   "version": "2.7.6"
  }
 },
 "nbformat": 4,
 "nbformat_minor": 5
}
