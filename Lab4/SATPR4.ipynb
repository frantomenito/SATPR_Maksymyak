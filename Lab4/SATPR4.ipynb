{
 "cells": [
  {
   "cell_type": "code",
   "execution_count": 1,
   "id": "initial_id",
   "metadata": {
    "collapsed": true,
    "ExecuteTime": {
     "end_time": "2023-11-09T13:34:59.272733Z",
     "start_time": "2023-11-09T13:34:58.758263100Z"
    }
   },
   "outputs": [
    {
     "name": "stdout",
     "output_type": "stream",
     "text": [
      "λ:  0.07142857142857142\n",
      "\n",
      "p:  [0.1        0.2        0.07142857 0.17142857 0.45714286]\n",
      "\n",
      "Values:\n",
      " [[ 180  140   11  201  232]\n",
      " [ 420  230  140  220  100]\n",
      " [ 113  315   35   49  290]\n",
      " [ 180   11    9 1010  201]]\n"
     ]
    }
   ],
   "source": [
    "import numpy as np\n",
    "\n",
    "k = 11\n",
    "\n",
    "values = np.array([[180, 140, k, 245 - 4*k, 232],\n",
    "                   [420, 120 + 10*k, 140, 220, 100],\n",
    "                   [25 + 8*k, 315, 35, 49, 10 * (k+23) - 50],\n",
    "                   [290 - 10*k, k, 9, 100*k -90, 201]])\n",
    "\n",
    "a = 1 / (k + 3) if(1 <= k <= 12) else 4/k \n",
    "\n",
    "p = np.array([0.1, 0.2, a, a + 0.1, 0.6 - 2*a])\n",
    "\n",
    "print(\"λ: \", a)\n",
    "print(\"\\np: \", p)\n",
    "print(\"\\nValues:\\n\", values)\n"
   ]
  },
  {
   "cell_type": "markdown",
   "source": [
    "## Песимізм"
   ],
   "metadata": {
    "collapsed": false
   },
   "id": "f397035723a11b6"
  },
  {
   "cell_type": "code",
   "execution_count": 2,
   "outputs": [
    {
     "name": "stdout",
     "output_type": "stream",
     "text": [
      "[ 11 100  35   9]\n",
      "Найкраще вибрати варіант 2\n"
     ]
    }
   ],
   "source": [
    "pesMinValues = np.min(values, 1)\n",
    "pesMaxIndex = np.argmax(pesMinValues)\n",
    "\n",
    "print(pesMinValues)\n",
    "print(\"Найкраще вибрати варіант\", pesMaxIndex+1)\n"
   ],
   "metadata": {
    "collapsed": false,
    "ExecuteTime": {
     "end_time": "2023-11-09T13:34:59.283869200Z",
     "start_time": "2023-11-09T13:34:59.269702400Z"
    }
   },
   "id": "1cc18edb3bee7cd5"
  },
  {
   "cell_type": "markdown",
   "source": [
    "## Оптимізм"
   ],
   "metadata": {
    "collapsed": false
   },
   "id": "fb9744ff6fbdbd0b"
  },
  {
   "cell_type": "code",
   "execution_count": 3,
   "outputs": [
    {
     "name": "stdout",
     "output_type": "stream",
     "text": [
      "[ 232  420  315 1010]\n",
      "Найкраще вибрати варіант 1\n"
     ]
    }
   ],
   "source": [
    "optMaxValues = np.max(values, 1)\n",
    "optMaxIndex = np.argmin(optMaxValues)\n",
    "\n",
    "print(optMaxValues)\n",
    "print(\"Найкраще вибрати варіант\", optMaxIndex+1)"
   ],
   "metadata": {
    "collapsed": false,
    "ExecuteTime": {
     "end_time": "2023-11-09T13:34:59.389580600Z",
     "start_time": "2023-11-09T13:34:59.286861600Z"
    }
   },
   "id": "5c27ce718d3dd14f"
  },
  {
   "cell_type": "markdown",
   "source": [
    "## Гурвіц"
   ],
   "metadata": {
    "collapsed": false
   },
   "id": "ec38f125cc65fe56"
  },
  {
   "cell_type": "code",
   "execution_count": 4,
   "outputs": [
    {
     "name": "stdout",
     "output_type": "stream",
     "text": [
      "[216.21428571 397.14285714 295.         938.5       ]\n",
      "Найкраще вибрати варіант 4\n"
     ]
    }
   ],
   "source": [
    "hurvitsValues = np.min(values,1) * a + (1-a) * np.max(values,1)\n",
    "\n",
    "print(hurvitsValues)\n",
    "print(\"Найкраще вибрати варіант\", np.argmax(hurvitsValues)+1)"
   ],
   "metadata": {
    "collapsed": false,
    "ExecuteTime": {
     "end_time": "2023-11-09T13:34:59.398564200Z",
     "start_time": "2023-11-09T13:34:59.301671Z"
    }
   },
   "id": "3df27f609dce8bac"
  },
  {
   "cell_type": "markdown",
   "source": [
    "## Лаплас"
   ],
   "metadata": {
    "collapsed": false
   },
   "id": "e44038610e67f778"
  },
  {
   "cell_type": "code",
   "execution_count": 5,
   "outputs": [
    {
     "name": "stdout",
     "output_type": "stream",
     "text": [
      "[152.8 222.  160.4 282.2]\n",
      "Найкраще вибрати варіант 4\n"
     ]
    }
   ],
   "source": [
    "laplasValues = np.average(values, 1)\n",
    "\n",
    "print(laplasValues)\n",
    "print(\"Найкраще вибрати варіант\", np.argmax(laplasValues)+1)"
   ],
   "metadata": {
    "collapsed": false,
    "ExecuteTime": {
     "end_time": "2023-11-09T13:34:59.401066500Z",
     "start_time": "2023-11-09T13:34:59.318060Z"
    }
   },
   "id": "876a78fe1b4deffb"
  },
  {
   "cell_type": "markdown",
   "source": [
    "## Баєс-Лаплас"
   ],
   "metadata": {
    "collapsed": false
   },
   "id": "d8eef895c1212506"
  },
  {
   "cell_type": "code",
   "execution_count": 6,
   "outputs": [
    {
     "name": "stdout",
     "output_type": "stream",
     "text": [
      "[187.3        181.42857143 217.77142857 285.87142857]\n",
      "Найкраще вибрати варіант 4\n"
     ]
    }
   ],
   "source": [
    "bayesValuesIntermediate = values*p\n",
    "bayesValues = np.sum(bayesValuesIntermediate, 1)\n",
    "\n",
    "print(bayesValues)\n",
    "print(\"Найкраще вибрати варіант\", np.argmax(bayesValues)+1)"
   ],
   "metadata": {
    "collapsed": false,
    "ExecuteTime": {
     "end_time": "2023-11-09T13:34:59.402066400Z",
     "start_time": "2023-11-09T13:34:59.331066300Z"
    }
   },
   "id": "f4397d7434aae359"
  },
  {
   "cell_type": "markdown",
   "source": [
    "## Ходж-Леман"
   ],
   "metadata": {
    "collapsed": false
   },
   "id": "e3e37ba92f88194a"
  },
  {
   "cell_type": "code",
   "execution_count": 7,
   "outputs": [
    {
     "name": "stdout",
     "output_type": "stream",
     "text": [
      "[ 23.59285714 105.81632653  48.05510204  28.77653061]\n",
      "Найкраще вибрати варіант 2\n"
     ]
    }
   ],
   "source": [
    "lemanValues = (1-a) * pesMinValues + bayesValues * a\n",
    "\n",
    "print(lemanValues)\n",
    "print(\"Найкраще вибрати варіант\", np.argmax(lemanValues)+1)"
   ],
   "metadata": {
    "collapsed": false,
    "ExecuteTime": {
     "end_time": "2023-11-09T13:34:59.407053300Z",
     "start_time": "2023-11-09T13:34:59.346567700Z"
    }
   },
   "id": "9a2ece1e73a7842a"
  }
 ],
 "metadata": {
  "kernelspec": {
   "display_name": "Python 3",
   "language": "python",
   "name": "python3"
  },
  "language_info": {
   "codemirror_mode": {
    "name": "ipython",
    "version": 2
   },
   "file_extension": ".py",
   "mimetype": "text/x-python",
   "name": "python",
   "nbconvert_exporter": "python",
   "pygments_lexer": "ipython2",
   "version": "2.7.6"
  }
 },
 "nbformat": 4,
 "nbformat_minor": 5
}
