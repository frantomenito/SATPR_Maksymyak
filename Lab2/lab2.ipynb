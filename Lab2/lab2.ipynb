{
 "cells": [
  {
   "cell_type": "code",
   "execution_count": 19,
   "id": "initial_id",
   "metadata": {
    "collapsed": true,
    "ExecuteTime": {
     "end_time": "2023-10-19T12:47:31.563576300Z",
     "start_time": "2023-10-19T12:47:31.535427100Z"
    }
   },
   "outputs": [],
   "source": [
    "from model import *"
   ]
  },
  {
   "cell_type": "markdown",
   "source": [
    "Беремо матрицю парних порівнянь суджень та шукаємо для кожного критерію середньє геометричне та вагу"
   ],
   "metadata": {
    "collapsed": false
   },
   "id": "82257a4f5f0313d6"
  },
  {
   "cell_type": "code",
   "execution_count": 20,
   "outputs": [
    {
     "name": "stdout",
     "output_type": "stream",
     "text": [
      "Means of criterias: [0.2933259  1.25598354 2.03836954 0.92587471 0.73486725 0.28177603\n",
      " 4.75563452 1.12983096 1.29269365]\n",
      "\n",
      "Sum: 12.708356095104403\n",
      "\n",
      "Normalized: [0.02308134 0.09883131 0.160396   0.07285558 0.05782552 0.0221725\n",
      " 0.37421319 0.08890457 0.10171997]\n"
     ]
    }
   ],
   "source": [
    "criteriaMeans = np.zeros(criterias.shape[1])\n",
    "\n",
    "for i, criteria in enumerate(criterias):\n",
    "    criteriaMeans[i] = g_mean(criteria)\n",
    "\n",
    "criteriaMeansSum = np.sum(criteriaMeans, 0)\n",
    "\n",
    "\n",
    "criteriaNormalized = np.zeros(criterias.shape[1])\n",
    "\n",
    "for i, criteriaMean in enumerate(criteriaMeans):\n",
    "    criteriaNormalized[i] = criteriaMean / criteriaMeansSum\n",
    "\n",
    "print(\"Means of criterias:\", criteriaMeans)\n",
    "print(\"\\nSum:\", criteriaMeansSum)\n",
    "print(\"\\nNormalized:\", criteriaNormalized)"
   ],
   "metadata": {
    "collapsed": false,
    "ExecuteTime": {
     "end_time": "2023-10-19T12:47:31.636202400Z",
     "start_time": "2023-10-19T12:47:31.546990500Z"
    }
   },
   "id": "67406ddb918e2041"
  },
  {
   "cell_type": "markdown",
   "source": [
    "Для кожного критерію дивимося яка машина краща в ньому і повторюємо ті самі кроки, тобто середнє геометричне, щоб знайти вагу"
   ],
   "metadata": {
    "collapsed": false
   },
   "id": "5e9886b4e20a5878"
  },
  {
   "cell_type": "code",
   "execution_count": 21,
   "outputs": [
    {
     "name": "stdout",
     "output_type": "stream",
     "text": [
      "Means: [[0.30285343 0.92831777 3.5568933 ]\n",
      " [0.25131581 1.20507113 3.30192725]\n",
      " [0.82207069 3.97905721 0.30571071]\n",
      " [2.28942849 0.5        0.87358046]\n",
      " [3.5568933  0.30285343 0.92831777]\n",
      " [0.30571071 1.1856311  2.75892418]\n",
      " [0.28114422 3.30192725 1.07721735]\n",
      " [3.97905721 0.38157141 0.65863376]\n",
      " [0.30285343 3.30192725 1.        ]]\n",
      "\n",
      "Sum:\n",
      " [4.7880645  4.75831419 5.10683861 3.66300895 4.7880645  4.25026599\n",
      " 4.66028882 5.01926238 4.60478068]\n",
      "\n",
      "Normalized:\n",
      " [[0.06325174 0.19388163 0.74286662]\n",
      " [0.05281615 0.2532559  0.69392796]\n",
      " [0.16097448 0.77916251 0.05986301]\n",
      " [0.62501307 0.1364998  0.23848712]\n",
      " [0.74286662 0.06325174 0.19388163]\n",
      " [0.07192743 0.27895457 0.649118  ]\n",
      " [0.06032764 0.70852417 0.23114819]\n",
      " [0.79275736 0.07602141 0.13122122]\n",
      " [0.06576935 0.71706504 0.21716561]]\n"
     ]
    }
   ],
   "source": [
    "means = np.zeros((criterias.shape[1], 3))\n",
    "\n",
    "for i, criteria in enumerate(carsDifference):\n",
    "    for j, car in enumerate(criteria):\n",
    "        means[i][j] = g_mean(car)\n",
    "\n",
    "meanSum = np.sum(means, 1)\n",
    "\n",
    "\n",
    "normalizedValues = np.zeros((criterias.shape[1], 3))\n",
    "\n",
    "for i, mean in enumerate(means):\n",
    "    normalizedValues[i] = mean / meanSum[i]\n",
    "\n",
    "print(\"Means:\", means)\n",
    "print(\"\\nSum:\", meanSum)\n",
    "print(\"\\nNormalized:\\n\", normalizedValues)"
   ],
   "metadata": {
    "collapsed": false,
    "ExecuteTime": {
     "end_time": "2023-10-19T12:47:31.637208700Z",
     "start_time": "2023-10-19T12:47:31.561582200Z"
    }
   },
   "id": "38fe6651c24173d2"
  },
  {
   "cell_type": "markdown",
   "source": [
    "Після чого рахуємо глобальний пріорітет відносно минулої інформації"
   ],
   "metadata": {
    "collapsed": false
   },
   "id": "2822df86286a3a07"
  },
  {
   "cell_type": "code",
   "execution_count": 22,
   "outputs": [
    {
     "name": "stdout",
     "output_type": "stream",
     "text": [
      "[0.22233185 0.51910425 0.2585639 ]\n"
     ]
    }
   ],
   "source": [
    "globalPriorities = np.zeros(3)\n",
    "\n",
    "for i in range(len(globalPriorities)):\n",
    "    globalPriorities[i] = np.sum(normalizedValues[:, i] * criteriaNormalized)\n",
    "\n",
    "print(globalPriorities)"
   ],
   "metadata": {
    "collapsed": false,
    "ExecuteTime": {
     "end_time": "2023-10-19T12:47:31.637208700Z",
     "start_time": "2023-10-19T12:47:31.576944900Z"
    }
   },
   "id": "886ebb32d8ff8514"
  },
  {
   "cell_type": "markdown",
   "source": [
    "Тепер вибираємо машину з найкращим пріорітетом"
   ],
   "metadata": {
    "collapsed": false
   },
   "id": "29f49d211b6ab3f7"
  },
  {
   "cell_type": "code",
   "execution_count": 23,
   "outputs": [
    {
     "name": "stdout",
     "output_type": "stream",
     "text": [
      "\n",
      "We should choose car number: 2, with the priority of: 0.5191042522749547\n"
     ]
    }
   ],
   "source": [
    "bestIndex = np.argmax(globalPriorities)\n",
    "print(f\"\\nWe should choose car number: {bestIndex + 1}, with the priority of: {globalPriorities[bestIndex]}\")"
   ],
   "metadata": {
    "collapsed": false,
    "ExecuteTime": {
     "end_time": "2023-10-19T12:47:31.638715400Z",
     "start_time": "2023-10-19T12:47:31.594042800Z"
    }
   },
   "id": "b77c6fb856568049"
  }
 ],
 "metadata": {
  "kernelspec": {
   "display_name": "Python 3",
   "language": "python",
   "name": "python3"
  },
  "language_info": {
   "codemirror_mode": {
    "name": "ipython",
    "version": 2
   },
   "file_extension": ".py",
   "mimetype": "text/x-python",
   "name": "python",
   "nbconvert_exporter": "python",
   "pygments_lexer": "ipython2",
   "version": "2.7.6"
  }
 },
 "nbformat": 4,
 "nbformat_minor": 5
}
