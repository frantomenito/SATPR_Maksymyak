{
 "cells": [
  {
   "cell_type": "code",
   "execution_count": 7,
   "id": "initial_id",
   "metadata": {
    "collapsed": true,
    "ExecuteTime": {
     "end_time": "2023-11-16T16:31:58.060989700Z",
     "start_time": "2023-11-16T16:31:58.035506400Z"
    }
   },
   "outputs": [
    {
     "name": "stdout",
     "output_type": "stream",
     "text": [
      "Worker 1 should choose workplace number - 2\n",
      "Worker 2 should choose workplace number - 4\n",
      "Worker 3 should choose workplace number - 3\n",
      "Worker 4 should choose workplace number - 1\n"
     ]
    }
   ],
   "source": [
    "import numpy as np\n",
    "from scipy.optimize import linear_sum_assignment as lsa\n",
    "\n",
    "values = np.array([[2.3, 1.9, 2.2,   2.7],\n",
    "                [1.8,   2.2, 2,     1.8],\n",
    "                [2.5,   2,   2.2,   3],\n",
    "                [2,     2.4, 2.4,   2.8]])\n",
    "\n",
    "rowIndexes, columnIndexes = lsa(values)\n",
    "\n",
    "for i in range(len(rowIndexes)):\n",
    "    print(\"Worker\", i+1, \"should choose workplace number -\", columnIndexes[i]+1)"
   ]
  }
 ],
 "metadata": {
  "kernelspec": {
   "display_name": "Python 3",
   "language": "python",
   "name": "python3"
  },
  "language_info": {
   "codemirror_mode": {
    "name": "ipython",
    "version": 2
   },
   "file_extension": ".py",
   "mimetype": "text/x-python",
   "name": "python",
   "nbconvert_exporter": "python",
   "pygments_lexer": "ipython2",
   "version": "2.7.6"
  }
 },
 "nbformat": 4,
 "nbformat_minor": 5
}
