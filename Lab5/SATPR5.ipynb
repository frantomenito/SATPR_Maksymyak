{
 "cells": [
  {
   "cell_type": "code",
   "execution_count": 43,
   "id": "initial_id",
   "metadata": {
    "collapsed": true,
    "ExecuteTime": {
     "end_time": "2023-11-16T15:56:36.212892200Z",
     "start_time": "2023-11-16T15:56:36.189766300Z"
    }
   },
   "outputs": [],
   "source": [
    "import numpy as np\n",
    "\n",
    "def solveMatrix(matrix, mainMax, secondaryMax, isIndexResult):\n",
    "    mainValues = np.max(matrix, 0) if mainMax else np.min(matrix, 0)\n",
    "    mainValueIndex = np.argmin(mainValues) if mainMax else np.argmax(mainValues)\n",
    "    \n",
    "    secondaryValues = np.max(matrix, 0) if secondaryMax else np.min(matrix, 0)\n",
    "    secondaryValueIndex = np.argmin(secondaryValues) if secondaryMax else np.argmax(secondaryValues)\n",
    "    \n",
    "    return (mainValueIndex, secondaryValueIndex) if isIndexResult else (mainValues[mainValueIndex], secondaryValues[secondaryValueIndex])"
   ]
  },
  {
   "cell_type": "markdown",
   "source": [
    "## Завдання 1"
   ],
   "metadata": {
    "collapsed": false
   },
   "id": "697e687bb139d22a"
  },
  {
   "cell_type": "code",
   "execution_count": 44,
   "outputs": [
    {
     "name": "stdout",
     "output_type": "stream",
     "text": [
      "(4, 4)\n"
     ]
    }
   ],
   "source": [
    "values1 = np.array([[-8, 6, 0, 7],\n",
    "                    [3, -1, 4, 4],\n",
    "                    [5, 4, 3, 4]])\n",
    "\n",
    "mainSecondValues = solveMatrix(values1, 0, 1, False)\n",
    "print(mainSecondValues)\n"
   ],
   "metadata": {
    "collapsed": false,
    "ExecuteTime": {
     "end_time": "2023-11-16T15:56:36.261452100Z",
     "start_time": "2023-11-16T15:56:36.205376700Z"
    }
   },
   "id": "32a0ba82568826b1"
  },
  {
   "cell_type": "markdown",
   "source": [
    "## Завдання 2"
   ],
   "metadata": {
    "collapsed": false
   },
   "id": "1c6220e87697b445"
  },
  {
   "cell_type": "code",
   "execution_count": 45,
   "outputs": [
    {
     "name": "stdout",
     "output_type": "stream",
     "text": [
      "(0.5, 0.5)\n",
      "(4, 4)\n",
      "Ціна гри -  0.5\n",
      "\n",
      "Максимальна очікувана корисність відпустки - (0.5, 0.5) \n"
     ]
    }
   ],
   "source": [
    "values2 = np.array([[0.34,\t0.86,\t0.84,\t0.6,\t0.5,\t0.8],\n",
    "                    [0.66,\t0.14,\t0.84,\t0.6,\t0.5,\t0.8],\n",
    "                    [0.66,\t0.86,\t0.16,\t0.6,\t0.5,\t0.8],\n",
    "                    [0.66,\t0.86,\t0.84,\t0.4,\t0.5,\t0.8],\n",
    "                    [0.66,\t0.86,\t0.84,\t0.6,\t0.5,\t0.8],\n",
    "                    [0.66,\t0.86,\t0.84,\t0.6,\t0.5,\t0.2]])\n",
    "\n",
    "\n",
    "\n",
    "mainSecondValues2 = solveMatrix(values2, 1, 0, False)\n",
    "mainSecondIndexes2 = solveMatrix(values2, 1, 0, True)\n",
    "print(mainSecondValues2)\n",
    "print(mainSecondIndexes2)\n",
    "\n",
    "isPriceOfGameAvailable = mainSecondValues2[0] == mainSecondValues2[1]\n",
    "\n",
    "if isPriceOfGameAvailable:\n",
    "    print(\"Ціна гри - \", mainSecondValues2[0])\n",
    "else:\n",
    "    print(\"Ціна для головного гравця -\", mainSecondValues2[0], \", а для другого гравця -\", mainSecondValues2[1])\n",
    "\n",
    "minMaxEveryValue = solveMatrix(values2, 1, 1, False)\n",
    "print(\"\\nМаксимальна очікувана корисність відпустки -\", minMaxEveryValue, \"\\n\")"
   ],
   "metadata": {
    "collapsed": false,
    "ExecuteTime": {
     "end_time": "2023-11-16T15:56:36.268974400Z",
     "start_time": "2023-11-16T15:56:36.221377900Z"
    }
   },
   "id": "c5bd408f062db951"
  }
 ],
 "metadata": {
  "kernelspec": {
   "display_name": "Python 3",
   "language": "python",
   "name": "python3"
  },
  "language_info": {
   "codemirror_mode": {
    "name": "ipython",
    "version": 2
   },
   "file_extension": ".py",
   "mimetype": "text/x-python",
   "name": "python",
   "nbconvert_exporter": "python",
   "pygments_lexer": "ipython2",
   "version": "2.7.6"
  }
 },
 "nbformat": 4,
 "nbformat_minor": 5
}
