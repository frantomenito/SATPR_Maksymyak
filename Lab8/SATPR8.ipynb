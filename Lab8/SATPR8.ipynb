{
 "cells": [
  {
   "cell_type": "code",
   "execution_count": 36,
   "id": "initial_id",
   "metadata": {
    "collapsed": true,
    "ExecuteTime": {
     "end_time": "2023-12-07T12:35:13.210523700Z",
     "start_time": "2023-12-07T12:35:13.145944300Z"
    }
   },
   "outputs": [
    {
     "name": "stdout",
     "output_type": "stream",
     "text": [
      "Матриця розподілу:\n",
      "[[170. 140.   0.   0.   0.   0.   0.]\n",
      " [  0.  60. 180.  20.   0.   0.   0.]\n",
      " [  0.   0.   0. 190.  90.   0.   0.]\n",
      " [  0.   0.   0.   0. 150. 180.  30.]\n",
      " [  0.   0.   0.   0.   0.   0. 120.]]\n",
      "Загальна вартість перевезень: 18850.0\n"
     ]
    }
   ],
   "source": [
    "import numpy as np\n",
    "from scipy.optimize import linear_sum_assignment\n",
    "\n",
    "def northwest_corner_method(supply, demand, costs):\n",
    "    result_matrix = np.zeros((len(supply), len(demand)))\n",
    "\n",
    "    i, j = 0, 0\n",
    "\n",
    "    while i < len(supply) and j < len(demand):\n",
    "        quantity = min(supply[i], demand[j])\n",
    "\n",
    "        result_matrix[i, j] = quantity\n",
    "\n",
    "        supply[i] -= quantity\n",
    "        demand[j] -= quantity\n",
    "\n",
    "        if supply[i] == 0:\n",
    "            i += 1\n",
    "        else:\n",
    "            j += 1\n",
    "\n",
    "    return result_matrix\n",
    "\n",
    "def calculate_total_cost(result_matrix, costs):\n",
    "    total_cost = np.sum(result_matrix * costs)\n",
    "    return total_cost\n",
    "\n",
    "\n",
    "supply1 = [310,260,280,360,220] \n",
    "demand1 = [170,\t200,\t180,\t210,\t240,\t180,\t150] \n",
    "costs1 = np.array([[10,\t20,\t18,\t8,\t16,\t5,\t8,],\n",
    "[21,\t14,\t5,\t20,\t17,\t15,\t12,],\n",
    "[17,\t11,\t21,\t12,\t21,\t18,\t17,],\n",
    "[17,\t15,\t9,\t18,\t16,\t19,\t18,],\n",
    "[11,\t16,\t20,\t17,\t6,\t9,\t14,]])\n",
    "\n",
    "result_matrix1 = northwest_corner_method(supply1, demand1, costs1)\n",
    "print(\"Матриця розподілу:\")\n",
    "print(result_matrix1)\n",
    "\n",
    "total_cost1 = calculate_total_cost(result_matrix1, costs1)\n",
    "print(\"Загальна вартість перевезень:\", total_cost1)"
   ]
  },
  {
   "cell_type": "code",
   "execution_count": 37,
   "outputs": [
    {
     "name": "stdout",
     "output_type": "stream",
     "text": [
      "Відповідь:\n",
      "       0      1      2      3      4\n",
      "0    0.0    0.0  190.0    0.0   10.0\n",
      "1    0.0  130.0    0.0  120.0  100.0\n",
      "2  270.0    0.0    0.0   30.0    0.0\n",
      "Загальна вартість: 21620.0\n"
     ]
    }
   ],
   "source": [
    "from pulp import *\n",
    "import pandas as pd\n",
    "\n",
    "\n",
    "supply2 = [200,350,300]\n",
    "demand2 = [270,\t130,\t190,\t150,\t110,] \n",
    "costs2 = np.array([[24,\t50,\t5,\t27,\t16],\n",
    "                    [50,\t47,\t23,\t17,\t21],\n",
    "                    [35,\t59,\t55,\t27,\t41]])\n",
    "\n",
    "parameters = makeDict([supply2, demand2], costs2, 0)\n",
    "prob = LpProblem(\"Transportation_Problem\", LpMinimize)\n",
    "\n",
    "routes = [(i, j) for i in range(len(supply2)) for j in range(len(demand2))]\n",
    "\n",
    "vars = LpVariable.dicts(\"Route\", (range(len(supply2)), range(len(demand2))), 0, None, LpInteger)\n",
    "\n",
    "prob += (\n",
    "    lpSum([vars[w][b] * costs2[w][b] for (w, b) in routes]),\n",
    "    \"Sum_of_Transporting_Costs\"\n",
    ")\n",
    "\n",
    "for s in range(len(supply2)):\n",
    "    prob += (\n",
    "        lpSum([vars[s][b] for b in range(len(demand2))]) <= supply2[s],\n",
    "        \"Sum_of_Products_out_of_supplier_%s\" % s,\n",
    "    )\n",
    "\n",
    "for c in range(len(demand2)):\n",
    "    prob += (\n",
    "        lpSum([vars[w][c] for w in range(len(supply2))]) >= demand2[c],\n",
    "        \"Sum_of_Products_into_consumer%s\" % c,\n",
    "    )\n",
    "\n",
    "prob.solve()\n",
    "\n",
    "results = [v.varValue for v in prob.variables()]\n",
    "\n",
    "print(\"Відповідь:\")\n",
    "print(pd.DataFrame(np.array(results).reshape(3,5)))\n",
    "print(\"Загальна вартість:\", value(prob.objective))\n"
   ],
   "metadata": {
    "collapsed": false,
    "ExecuteTime": {
     "end_time": "2023-12-07T12:35:13.471563800Z",
     "start_time": "2023-12-07T12:35:13.207532300Z"
    }
   },
   "id": "8ee12d2e1190e3"
  }
 ],
 "metadata": {
  "kernelspec": {
   "display_name": "Python 3",
   "language": "python",
   "name": "python3"
  },
  "language_info": {
   "codemirror_mode": {
    "name": "ipython",
    "version": 2
   },
   "file_extension": ".py",
   "mimetype": "text/x-python",
   "name": "python",
   "nbconvert_exporter": "python",
   "pygments_lexer": "ipython2",
   "version": "2.7.6"
  }
 },
 "nbformat": 4,
 "nbformat_minor": 5
}
