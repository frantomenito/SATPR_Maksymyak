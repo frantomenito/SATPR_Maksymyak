{
 "cells": [
  {
   "cell_type": "code",
   "execution_count": 2,
   "outputs": [],
   "source": [
    "import numpy as np"
   ],
   "metadata": {
    "collapsed": false,
    "ExecuteTime": {
     "end_time": "2023-10-26T11:12:45.774239600Z",
     "start_time": "2023-10-26T11:12:45.327119Z"
    }
   },
   "id": "4df44cc1287bfc44"
  },
  {
   "cell_type": "markdown",
   "source": [
    "Task 1\n",
    "Data"
   ],
   "metadata": {
    "collapsed": false
   },
   "id": "b41081cf7bc64f"
  },
  {
   "cell_type": "code",
   "execution_count": 3,
   "outputs": [],
   "source": [
    "chances = np.array([0.3, 0.7])\n",
    "income = np.array([[-2500, 1000], [800, 200]])"
   ],
   "metadata": {
    "collapsed": false,
    "ExecuteTime": {
     "end_time": "2023-10-26T11:12:45.791891300Z",
     "start_time": "2023-10-26T11:12:45.774239600Z"
    }
   },
   "id": "c2412f577591e667"
  },
  {
   "cell_type": "markdown",
   "source": [
    "Calculating choice income   "
   ],
   "metadata": {
    "collapsed": false
   },
   "id": "80faacaae881b5d3"
  },
  {
   "cell_type": "code",
   "execution_count": 4,
   "outputs": [
    {
     "name": "stdout",
     "output_type": "stream",
     "text": [
      "[-50. 380.]\n",
      "\n",
      "Better to choose button number 2 with the income of 380.0\n"
     ]
    }
   ],
   "source": [
    "income = income * chances\n",
    "incomePerChoice = np.sum(income, axis=1)\n",
    "\n",
    "print(incomePerChoice)\n",
    "\n",
    "choiceIndex = np.argmax(incomePerChoice)\n",
    "print(\"\\nBetter to choose button number\", choiceIndex + 1, \"with the income of\", incomePerChoice[choiceIndex])"
   ],
   "metadata": {
    "collapsed": false,
    "ExecuteTime": {
     "end_time": "2023-10-26T11:12:45.849668300Z",
     "start_time": "2023-10-26T11:12:45.790383500Z"
    }
   },
   "id": "7522fd6ebf6deadb"
  },
  {
   "cell_type": "markdown",
   "source": [
    "Task 5\n",
    "Data:"
   ],
   "metadata": {
    "collapsed": false
   },
   "id": "ab23839bfb2d7eba"
  },
  {
   "cell_type": "code",
   "execution_count": 5,
   "outputs": [],
   "source": [
    "chances = np.array([0.2, 0.15, 0.65])\n",
    "income = np.array([[0.08, 0.06, 0.075], [0.01, 0.01, 0.01]])\n",
    "changeOfValue = np.array([[0.1, 0.05, 0], [0.2, 0.2, 0.08]])\n",
    "\n",
    "baseValue = 10000"
   ],
   "metadata": {
    "collapsed": false,
    "ExecuteTime": {
     "end_time": "2023-10-26T11:12:45.859425200Z",
     "start_time": "2023-10-26T11:12:45.806159700Z"
    }
   },
   "id": "38715909668a5bd2"
  },
  {
   "cell_type": "markdown",
   "source": [
    "Calculating income in certain situation"
   ],
   "metadata": {
    "collapsed": false
   },
   "id": "a9ddb96e8f54480"
  },
  {
   "cell_type": "code",
   "execution_count": 6,
   "outputs": [
    {
     "name": "stdout",
     "output_type": "stream",
     "text": [
      "[[11800. 11100. 10750.]\n",
      " [12100. 12100. 10900.]]\n",
      "\n",
      "Better to invest money in  Fond\n"
     ]
    }
   ],
   "source": [
    "situationIncome = (changeOfValue+income)*baseValue + baseValue\n",
    "print(situationIncome)\n",
    "\n",
    "choiceIncome = np.sum(situationIncome*chances, 1)\n",
    "\n",
    "bestChoiceIndex = np.argmax(choiceIncome)\n",
    "print(\"\\nBetter to invest money in \", \"Obligations\" if bestChoiceIndex == 0 else \"Fond\")"
   ],
   "metadata": {
    "collapsed": false,
    "ExecuteTime": {
     "end_time": "2023-10-26T11:12:45.860422200Z",
     "start_time": "2023-10-26T11:12:45.823500600Z"
    }
   },
   "id": "a1d1bae2a07338b"
  }
 ],
 "metadata": {
  "kernelspec": {
   "display_name": "Python 3",
   "language": "python",
   "name": "python3"
  },
  "language_info": {
   "codemirror_mode": {
    "name": "ipython",
    "version": 2
   },
   "file_extension": ".py",
   "mimetype": "text/x-python",
   "name": "python",
   "nbconvert_exporter": "python",
   "pygments_lexer": "ipython2",
   "version": "2.7.6"
  }
 },
 "nbformat": 4,
 "nbformat_minor": 5
}
